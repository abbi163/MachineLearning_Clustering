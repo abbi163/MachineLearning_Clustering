{
 "cells": [
  {
   "cell_type": "code",
   "execution_count": 1,
   "metadata": {},
   "outputs": [],
   "source": [
    "import numpy as np \n",
    "import pandas as pd\n",
    "from scipy import ndimage \n",
    "from scipy.cluster import hierarchy \n",
    "from scipy.spatial import distance_matrix \n",
    "from matplotlib import pyplot as plt \n",
    "from sklearn import manifold, datasets \n",
    "from sklearn.cluster import AgglomerativeClustering \n",
    "from sklearn.datasets.samples_generator import make_blobs \n",
    "%matplotlib inline"
   ]
  },
  {
   "cell_type": "code",
   "execution_count": 31,
   "metadata": {
    "scrolled": true
   },
   "outputs": [
    {
     "data": {
      "text/plain": [
       "<matplotlib.collections.PathCollection at 0x2468011d0b8>"
      ]
     },
     "execution_count": 31,
     "metadata": {},
     "output_type": "execute_result"
    },
    {
     "data": {
      "image/png": "[encoded data removed]",
      "text/plain": [
       "<Figure size 432x288 with 1 Axes>"
      ]
     },
     "metadata": {
      "needs_background": "light"
     },
     "output_type": "display_data"
    }
   ],
   "source": [
    "# We will be generating random data using make blob class\n",
    "X1, y1 = make_blobs(n_samples=100, centers=[[4,4], [-2, -1], [1, 1], [10,4]], cluster_std=0.9)\n",
    "plt.scatter(X1[:, 0], X1[:, 1], marker='x') "
   ]
  },
  {
   "cell_type": "code",
   "execution_count": 32,
   "metadata": {},
   "outputs": [
    {
     "name": "stdout",
     "output_type": "stream",
     "text": [
      "[[11.57199865  4.91753841]\n",
      " [ 9.61703501  4.18391036]\n",
      " [-1.19821305 -2.52289206]\n",
      " [ 3.86180495  3.11752012]\n",
      " [ 3.6310323   2.63433816]\n",
      " [-0.68103593  2.21645229]\n",
      " [-0.20348621 -1.55108622]\n",
      " [-0.61615871  0.68823634]\n",
      " [ 4.00521045  3.31735023]\n",
      " [-1.91071743 -1.54298869]\n",
      " [11.38634282  4.13102029]\n",
      " [ 9.91465418  4.69746702]\n",
      " [10.30733689  5.00290847]\n",
      " [ 0.27194794 -1.45411935]\n",
      " [-2.02847133 -0.19799101]\n",
      " [ 5.48279578  5.90140587]\n",
      " [ 0.9127353   2.93265933]\n",
      " [ 9.35539571  4.00294229]\n",
      " [ 0.85322817  1.13297164]\n",
      " [-2.44840324 -0.99916374]\n",
      " [ 0.81257093  0.49291711]\n",
      " [-2.15864032 -2.19880354]\n",
      " [ 2.24594085  2.09782645]\n",
      " [10.49030479  3.0038413 ]\n",
      " [ 4.96228174  4.1047356 ]\n",
      " [ 2.94691706  3.86947378]\n",
      " [-0.15419254  1.66823871]\n",
      " [-1.40386572 -1.15943891]\n",
      " [-0.37238818 -1.27882456]\n",
      " [-4.16594925 -0.47899533]\n",
      " [10.82021146  4.239894  ]\n",
      " [-1.80246694 -1.32243296]\n",
      " [ 1.04808691  2.16668473]\n",
      " [ 0.37932149  1.43432288]\n",
      " [ 0.49394554  1.26381768]\n",
      " [10.17227331  4.77228242]\n",
      " [ 3.1835119   3.60683991]\n",
      " [ 1.79713748  1.18925831]\n",
      " [ 2.91426524  4.08748458]\n",
      " [ 4.21824173  3.77660363]\n",
      " [ 4.20885927  3.2118586 ]\n",
      " [ 0.37627154 -0.97884124]\n",
      " [ 3.66672963  3.31241007]\n",
      " [-2.50827927 -0.27112158]\n",
      " [ 9.90871685  4.18294278]\n",
      " [ 3.83925778  2.6943251 ]\n",
      " [ 0.72241136  1.75677028]\n",
      " [ 4.48950668  3.69125151]\n",
      " [ 5.35872095  4.59283814]\n",
      " [-3.86809384 -2.0843396 ]\n",
      " [ 0.90357826  0.3332148 ]\n",
      " [11.34196183  3.48890121]\n",
      " [ 9.61777192  5.41266358]\n",
      " [ 0.56479745 -0.15213143]\n",
      " [-2.66516658 -1.9217294 ]\n",
      " [ 2.72514268  5.2952496 ]\n",
      " [ 1.39104216  2.31457402]\n",
      " [ 9.81791886  4.08038565]\n",
      " [ 4.23233386  3.87416985]\n",
      " [ 8.50245263  4.59625724]\n",
      " [-2.84470777 -1.95834141]\n",
      " [ 1.67013121  5.54109094]\n",
      " [-0.95032776 -0.84908626]\n",
      " [-1.37171477 -0.65843956]\n",
      " [ 1.28454487  0.09271738]\n",
      " [ 1.30139259  2.28992315]\n",
      " [-0.63713007  0.98224856]\n",
      " [-0.31208226 -1.10645903]\n",
      " [ 9.10124889  4.12152299]\n",
      " [ 9.20474819  3.89224196]\n",
      " [ 0.25635836  1.27839874]\n",
      " [-2.98625201  0.1216799 ]\n",
      " [ 0.16680861  0.77446822]\n",
      " [-2.33631234 -1.50458719]\n",
      " [ 4.54268335  3.01888579]\n",
      " [-2.55270079 -2.09265456]\n",
      " [12.21510798  3.0390125 ]\n",
      " [-0.29758458 -2.32294441]\n",
      " [ 5.03365462  4.67582303]\n",
      " [ 9.30625424  4.61127249]\n",
      " [10.63336631  5.5430811 ]\n",
      " [ 5.48515888  3.94437844]\n",
      " [-3.03162804 -1.04990828]\n",
      " [ 1.58790789  1.02285611]\n",
      " [ 1.37553988  0.51767147]\n",
      " [ 9.80202818  4.37629857]\n",
      " [11.63509074  3.71027102]\n",
      " [-2.57098014 -0.92883457]\n",
      " [ 4.43324741  3.71784928]\n",
      " [ 5.34817133  1.97137577]\n",
      " [ 1.04199384  1.5626712 ]\n",
      " [ 3.47753246  4.70516931]\n",
      " [ 9.77148733  5.86693049]\n",
      " [11.21400792  3.22448831]\n",
      " [ 9.9184146   4.22597861]\n",
      " [ 4.61678176  4.83060375]\n",
      " [ 0.01709316  0.86499694]\n",
      " [ 4.45572508  4.39848476]\n",
      " [ 2.36181179  2.6226329 ]\n",
      " [10.90894551  4.50352157]]\n",
      "[3 3 1 0 0 2 1 2 0 1 3 3 3 1 1 0 2 3 2 1 2 1 2 3 0 0 2 1 1 1 3 1 2 2 2 3 0\n",
      " 2 0 0 0 1 0 1 3 0 2 0 0 1 2 3 3 2 1 0 2 3 0 3 1 0 1 1 2 2 2 1 3 3 2 1 2 1\n",
      " 0 1 3 1 0 3 3 0 1 2 2 3 3 1 0 0 2 0 3 3 3 0 2 0 2 3]\n"
     ]
    }
   ],
   "source": [
    "print(X1)\n",
    "print(y1)"
   ]
  },
  {
   "cell_type": "code",
   "execution_count": 33,
   "metadata": {},
   "outputs": [],
   "source": [
    "agglom = AgglomerativeClustering(n_clusters = 4, linkage = 'average')"
   ]
  },
  {
   "cell_type": "code",
   "execution_count": 35,
   "metadata": {},
   "outputs": [
    {
     "data": {
      "text/plain": [
       "AgglomerativeClustering(affinity='euclidean', compute_full_tree='auto',\n",
       "            connectivity=None, linkage='average', memory=None,\n",
       "            n_clusters=4,\n",
       "            pooling_func=<function mean at 0x00000246EF6DABF8>)"
      ]
     },
     "execution_count": 35,
     "metadata": {},
     "output_type": "execute_result"
    }
   ],
   "source": [
    "agglom.fit(X1,y1)"
   ]
  },
  {
   "cell_type": "code",
   "execution_count": 37,
   "metadata": {},
   "outputs": [
    {
     "data": {
      "image/png": "[encoded data removed]",
      "text/plain": [
       "<Figure size 432x288 with 1 Axes>"
      ]
     },
     "metadata": {},
     "output_type": "display_data"
    }
   ],
   "source": [
    "# Create a figure of size 6 inches by 4 inches.\n",
    "plt.figure(figsize=(6,4))\n",
    "\n",
    "# These two lines of code are used to scale the data points down,\n",
    "# Or else the data points will be scattered very far apart.\n",
    "\n",
    "# Create a minimum and maximum range of X1.\n",
    "x_min, x_max = np.min(X1, axis=0), np.max(X1, axis=0)\n",
    "\n",
    "# Get the average distance for X1.\n",
    "X1 = (X1 - x_min) / (x_max - x_min)\n",
    "\n",
    "# This loop displays all of the datapoints.\n",
    "for i in range(X1.shape[0]):\n",
    "    # Replace the data points with their respective cluster value \n",
    "    # (ex. 0) and is color coded with a colormap (plt.cm.spectral)\n",
    "    plt.text(X1[i, 0], X1[i, 1], str(y1[i]),\n",
    "             color=plt.cm.nipy_spectral(agglom.labels_[i] / 10.),\n",
    "             fontdict={'weight': 'bold', 'size': 9})\n",
    "    \n",
    "# Remove the x ticks, y ticks, x and y axis\n",
    "plt.xticks([])\n",
    "plt.yticks([])\n",
    "#plt.axis('off')\n",
    "\n",
    "\n",
    "\n",
    "# Display the plot of the original data before clustering\n",
    "plt.scatter(X1[:, 0], X1[:, 1], marker='.')\n",
    "# Display the plot\n",
    "plt.show()"
   ]
  },
  {
   "cell_type": "code",
   "execution_count": 39,
   "metadata": {},
   "outputs": [
    {
     "name": "stdout",
     "output_type": "stream",
     "text": [
      "[[0.         0.14773793 1.1780465  ... 0.43876849 0.62476454 0.06366835]\n",
      " [0.14773793 0.         1.03427212 ... 0.31610581 0.48011518 0.08751714]\n",
      " [1.1780465  1.03427212 0.         ... 0.89115129 0.64830691 1.11441745]\n",
      " ...\n",
      " [0.43876849 0.31610581 0.89115129 ... 0.         0.24652877 0.39414134]\n",
      " [0.62476454 0.48011518 0.64830691 ... 0.24652877 0.         0.56753196]\n",
      " [0.06366835 0.08751714 1.11441745 ... 0.39414134 0.56753196 0.        ]]\n"
     ]
    }
   ],
   "source": [
    "dist_matrix = distance_matrix(X1,X1) \n",
    "print(dist_matrix)"
   ]
  },
  {
   "cell_type": "code",
   "execution_count": 40,
   "metadata": {},
   "outputs": [
    {
     "name": "stderr",
     "output_type": "stream",
     "text": [
      "C:\\Users\\abhijeet\\Anaconda3\\lib\\site-packages\\ipykernel_launcher.py:1: ClusterWarning: scipy.cluster: The symmetric non-negative hollow observation matrix looks suspiciously like an uncondensed distance matrix\n",
      "  \"\"\"Entry point for launching an IPython kernel.\n"
     ]
    }
   ],
   "source": [
    "Z = hierarchy.linkage(dist_matrix, 'complete')"
   ]
  },
  {
   "cell_type": "code",
   "execution_count": 41,
   "metadata": {},
   "outputs": [
    {
     "data": {
      "image/png": "[encoded data removed]",
      "text/plain": [
       "<Figure size 432x288 with 1 Axes>"
      ]
     },
     "metadata": {
      "needs_background": "light"
     },
     "output_type": "display_data"
    }
   ],
   "source": [
    "dendro = hierarchy.dendrogram(Z)"
   ]
  },
  {
   "cell_type": "code",
   "execution_count": null,
   "metadata": {},
   "outputs": [],
   "source": []
  }
 ],
 "metadata": {
  "kernelspec": {
   "display_name": "Python 3",
   "language": "python",
   "name": "python3"
  },
  "language_info": {
   "codemirror_mode": {
    "name": "ipython",
    "version": 3
   },
   "file_extension": ".py",
   "mimetype": "text/x-python",
   "name": "python",
   "nbconvert_exporter": "python",
   "pygments_lexer": "ipython3",
   "version": "3.7.0"
  }
 },
 "nbformat": 4,
 "nbformat_minor": 2
}
